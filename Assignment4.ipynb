{
 "cells": [
  {
   "cell_type": "markdown",
   "metadata": {},
   "source": [
    "# Question 1"
   ]
  },
  {
   "cell_type": "code",
   "execution_count": 1,
   "metadata": {},
   "outputs": [
    {
     "name": "stdout",
     "output_type": "stream",
     "text": [
      "0.23.4\n"
     ]
    }
   ],
   "source": [
    "import pandas as pd      #to import pandas\n",
    "print(pd.__version__)    #to check version of pandas"
   ]
  },
  {
   "cell_type": "markdown",
   "metadata": {},
   "source": [
    "# Question 2"
   ]
  },
  {
   "cell_type": "code",
   "execution_count": 3,
   "metadata": {},
   "outputs": [
    {
     "name": "stdout",
     "output_type": "stream",
     "text": [
      "0      pink\n",
      "1      blue\n",
      "2    purple\n",
      "3     green\n",
      "4       red\n",
      "dtype: object\n"
     ]
    }
   ],
   "source": [
    "import pandas as pd\n",
    "import numpy as np\n",
    "data=np.array(['pink','blue','purple','green','red']) #numpy array\n",
    "se=pd.Series(data)  #to create series\n",
    "print(se)"
   ]
  },
  {
   "cell_type": "markdown",
   "metadata": {},
   "source": [
    "# Question 3"
   ]
  },
  {
   "cell_type": "code",
   "execution_count": 19,
   "metadata": {},
   "outputs": [
    {
     "name": "stdout",
     "output_type": "stream",
     "text": [
      "Computer    1200\n",
      "Printer     2000\n",
      "Monitor     1500\n",
      "Desk         700\n",
      "Phone        600\n",
      "dtype: int64\n",
      "<class 'pandas.core.series.Series'>\n"
     ]
    },
    {
     "data": {
      "text/html": [
       "<div>\n",
       "<style scoped>\n",
       "    .dataframe tbody tr th:only-of-type {\n",
       "        vertical-align: middle;\n",
       "    }\n",
       "\n",
       "    .dataframe tbody tr th {\n",
       "        vertical-align: top;\n",
       "    }\n",
       "\n",
       "    .dataframe thead th {\n",
       "        text-align: right;\n",
       "    }\n",
       "</style>\n",
       "<table border=\"1\" class=\"dataframe\">\n",
       "  <thead>\n",
       "    <tr style=\"text-align: right;\">\n",
       "      <th></th>\n",
       "      <th>Price</th>\n",
       "    </tr>\n",
       "  </thead>\n",
       "  <tbody>\n",
       "    <tr>\n",
       "      <th>Computer</th>\n",
       "      <td>1200</td>\n",
       "    </tr>\n",
       "    <tr>\n",
       "      <th>Printer</th>\n",
       "      <td>2000</td>\n",
       "    </tr>\n",
       "    <tr>\n",
       "      <th>Monitor</th>\n",
       "      <td>1500</td>\n",
       "    </tr>\n",
       "    <tr>\n",
       "      <th>Desk</th>\n",
       "      <td>700</td>\n",
       "    </tr>\n",
       "    <tr>\n",
       "      <th>Phone</th>\n",
       "      <td>600</td>\n",
       "    </tr>\n",
       "  </tbody>\n",
       "</table>\n",
       "</div>"
      ],
      "text/plain": [
       "          Price\n",
       "Computer   1200\n",
       "Printer    2000\n",
       "Monitor    1500\n",
       "Desk        700\n",
       "Phone       600"
      ]
     },
     "execution_count": 19,
     "metadata": {},
     "output_type": "execute_result"
    }
   ],
   "source": [
    "import pandas as pd\n",
    "data={\n",
    "    \"Computer\":1200,\n",
    "    \"Printer\":2000,\n",
    "    \"Monitor\":1500,\n",
    "    \"Desk\":700,\n",
    "    \"Phone\":600\n",
    "}\n",
    "data1=pd.Series(data)\n",
    "print(data1)\n",
    "print(type(data1))\n",
    "pd.DataFrame(data1,columns=['Price'])\n"
   ]
  },
  {
   "cell_type": "markdown",
   "metadata": {},
   "source": [
    "# Question 4"
   ]
  },
  {
   "cell_type": "code",
   "execution_count": 14,
   "metadata": {},
   "outputs": [
    {
     "name": "stderr",
     "output_type": "stream",
     "text": [
      "C:\\Users\\Dell\\Anaconda3\\lib\\site-packages\\seaborn\\utils.py:376: UserWarning: No parser was explicitly specified, so I'm using the best available HTML parser for this system (\"lxml\"). This usually isn't a problem, but if you run this code on another system, or in a different virtual environment, it may use a different parser and behave differently.\n",
      "\n",
      "The code that caused this warning is on line 376 of the file C:\\Users\\Dell\\Anaconda3\\lib\\site-packages\\seaborn\\utils.py. To get rid of this warning, pass the additional argument 'features=\"lxml\"' to the BeautifulSoup constructor.\n",
      "\n",
      "  gh_list = BeautifulSoup(http)\n"
     ]
    },
    {
     "name": "stdout",
     "output_type": "stream",
     "text": [
      "['anagrams', 'anscombe', 'attention', 'brain_networks', 'car_crashes', 'diamonds', 'dots', 'exercise', 'flights', 'fmri', 'gammas', 'geyser', 'iris', 'mpg', 'penguins', 'planets', 'tips', 'titanic']\n",
      "    mpg  cylinders  displacement  horsepower  weight  acceleration  \\\n",
      "0  18.0          8         307.0       130.0    3504          12.0   \n",
      "1  15.0          8         350.0       165.0    3693          11.5   \n",
      "2  18.0          8         318.0       150.0    3436          11.0   \n",
      "3  16.0          8         304.0       150.0    3433          12.0   \n",
      "4  17.0          8         302.0       140.0    3449          10.5   \n",
      "\n",
      "   model_year origin                       name  \n",
      "0          70    usa  chevrolet chevelle malibu  \n",
      "1          70    usa          buick skylark 320  \n",
      "2          70    usa         plymouth satellite  \n",
      "3          70    usa              amc rebel sst  \n",
      "4          70    usa                ford torino  \n"
     ]
    }
   ],
   "source": [
    "import seaborn as sb\n",
    "print(sb.get_dataset_names()) #to list all the datasets available in seaborn library\n",
    "df=sb.load_dataset('mpg') #to load 'mpg' dataset\n",
    "print(df.head())"
   ]
  },
  {
   "cell_type": "markdown",
   "metadata": {},
   "source": [
    "# Question 5"
   ]
  },
  {
   "cell_type": "code",
   "execution_count": 13,
   "metadata": {},
   "outputs": [
    {
     "data": {
      "text/plain": [
       "usa       249\n",
       "japan      79\n",
       "europe     70\n",
       "Name: origin, dtype: int64"
      ]
     },
     "execution_count": 13,
     "metadata": {},
     "output_type": "execute_result"
    }
   ],
   "source": [
    "df['origin'].value_counts()"
   ]
  },
  {
   "cell_type": "markdown",
   "metadata": {},
   "source": [
    "The dataset consists of cars from USA, Japan and Europe."
   ]
  },
  {
   "cell_type": "markdown",
   "metadata": {},
   "source": [
    "# Question 6"
   ]
  },
  {
   "cell_type": "code",
   "execution_count": 19,
   "metadata": {},
   "outputs": [
    {
     "name": "stdout",
     "output_type": "stream",
     "text": [
      "      mpg  cylinders  displacement  horsepower  weight  acceleration  \\\n",
      "0    18.0          8         307.0       130.0    3504          12.0   \n",
      "1    15.0          8         350.0       165.0    3693          11.5   \n",
      "2    18.0          8         318.0       150.0    3436          11.0   \n",
      "3    16.0          8         304.0       150.0    3433          12.0   \n",
      "4    17.0          8         302.0       140.0    3449          10.5   \n",
      "5    15.0          8         429.0       198.0    4341          10.0   \n",
      "6    14.0          8         454.0       220.0    4354           9.0   \n",
      "7    14.0          8         440.0       215.0    4312           8.5   \n",
      "8    14.0          8         455.0       225.0    4425          10.0   \n",
      "9    15.0          8         390.0       190.0    3850           8.5   \n",
      "10   15.0          8         383.0       170.0    3563          10.0   \n",
      "11   14.0          8         340.0       160.0    3609           8.0   \n",
      "12   15.0          8         400.0       150.0    3761           9.5   \n",
      "13   14.0          8         455.0       225.0    3086          10.0   \n",
      "15   22.0          6         198.0        95.0    2833          15.5   \n",
      "16   18.0          6         199.0        97.0    2774          15.5   \n",
      "17   21.0          6         200.0        85.0    2587          16.0   \n",
      "24   21.0          6         199.0        90.0    2648          15.0   \n",
      "25   10.0          8         360.0       215.0    4615          14.0   \n",
      "26   10.0          8         307.0       200.0    4376          15.0   \n",
      "27   11.0          8         318.0       210.0    4382          13.5   \n",
      "28    9.0          8         304.0       193.0    4732          18.5   \n",
      "30   28.0          4         140.0        90.0    2264          15.5   \n",
      "32   25.0          4          98.0         NaN    2046          19.0   \n",
      "33   19.0          6         232.0       100.0    2634          13.0   \n",
      "34   16.0          6         225.0       105.0    3439          15.5   \n",
      "35   17.0          6         250.0       100.0    3329          15.5   \n",
      "36   19.0          6         250.0        88.0    3302          15.5   \n",
      "37   18.0          6         232.0       100.0    3288          15.5   \n",
      "38   14.0          8         350.0       165.0    4209          12.0   \n",
      "..    ...        ...           ...         ...     ...           ...   \n",
      "341  23.5          6         173.0       110.0    2725          12.6   \n",
      "342  30.0          4         135.0        84.0    2385          12.9   \n",
      "344  39.0          4          86.0        64.0    1875          16.4   \n",
      "350  34.7          4         105.0        63.0    2215          14.9   \n",
      "351  34.4          4          98.0        65.0    2045          16.2   \n",
      "352  29.9          4          98.0        65.0    2380          20.7   \n",
      "363  22.4          6         231.0       110.0    3415          15.8   \n",
      "364  26.6          8         350.0       105.0    3725          19.0   \n",
      "365  20.2          6         200.0        88.0    3060          17.1   \n",
      "366  17.6          6         225.0        85.0    3465          16.6   \n",
      "367  28.0          4         112.0        88.0    2605          19.6   \n",
      "368  27.0          4         112.0        88.0    2640          18.6   \n",
      "369  34.0          4         112.0        88.0    2395          18.0   \n",
      "370  31.0          4         112.0        85.0    2575          16.2   \n",
      "371  29.0          4         135.0        84.0    2525          16.0   \n",
      "372  27.0          4         151.0        90.0    2735          18.0   \n",
      "373  24.0          4         140.0        92.0    2865          16.4   \n",
      "374  23.0          4         151.0         NaN    3035          20.5   \n",
      "378  38.0          4         105.0        63.0    2125          14.7   \n",
      "379  36.0          4          98.0        70.0    2125          17.3   \n",
      "386  25.0          6         181.0       110.0    2945          16.4   \n",
      "387  38.0          6         262.0        85.0    3015          17.0   \n",
      "388  26.0          4         156.0        92.0    2585          14.5   \n",
      "389  22.0          6         232.0       112.0    2835          14.7   \n",
      "391  36.0          4         135.0        84.0    2370          13.0   \n",
      "392  27.0          4         151.0        90.0    2950          17.3   \n",
      "393  27.0          4         140.0        86.0    2790          15.6   \n",
      "395  32.0          4         135.0        84.0    2295          11.6   \n",
      "396  28.0          4         120.0        79.0    2625          18.6   \n",
      "397  31.0          4         119.0        82.0    2720          19.4   \n",
      "\n",
      "     model_year origin                               name  \n",
      "0            70    usa          chevrolet chevelle malibu  \n",
      "1            70    usa                  buick skylark 320  \n",
      "2            70    usa                 plymouth satellite  \n",
      "3            70    usa                      amc rebel sst  \n",
      "4            70    usa                        ford torino  \n",
      "5            70    usa                   ford galaxie 500  \n",
      "6            70    usa                   chevrolet impala  \n",
      "7            70    usa                  plymouth fury iii  \n",
      "8            70    usa                   pontiac catalina  \n",
      "9            70    usa                 amc ambassador dpl  \n",
      "10           70    usa                dodge challenger se  \n",
      "11           70    usa                 plymouth 'cuda 340  \n",
      "12           70    usa              chevrolet monte carlo  \n",
      "13           70    usa            buick estate wagon (sw)  \n",
      "15           70    usa                    plymouth duster  \n",
      "16           70    usa                         amc hornet  \n",
      "17           70    usa                      ford maverick  \n",
      "24           70    usa                        amc gremlin  \n",
      "25           70    usa                          ford f250  \n",
      "26           70    usa                          chevy c20  \n",
      "27           70    usa                         dodge d200  \n",
      "28           70    usa                           hi 1200d  \n",
      "30           71    usa                chevrolet vega 2300  \n",
      "32           71    usa                         ford pinto  \n",
      "33           71    usa                        amc gremlin  \n",
      "34           71    usa          plymouth satellite custom  \n",
      "35           71    usa          chevrolet chevelle malibu  \n",
      "36           71    usa                    ford torino 500  \n",
      "37           71    usa                        amc matador  \n",
      "38           71    usa                   chevrolet impala  \n",
      "..          ...    ...                                ...  \n",
      "341          81    usa                 chevrolet citation  \n",
      "342          81    usa                   plymouth reliant  \n",
      "344          81    usa                     plymouth champ  \n",
      "350          81    usa                 plymouth horizon 4  \n",
      "351          81    usa                     ford escort 4w  \n",
      "352          81    usa                     ford escort 2h  \n",
      "363          81    usa                      buick century  \n",
      "364          81    usa              oldsmobile cutlass ls  \n",
      "365          81    usa                    ford granada gl  \n",
      "366          81    usa             chrysler lebaron salon  \n",
      "367          82    usa                 chevrolet cavalier  \n",
      "368          82    usa           chevrolet cavalier wagon  \n",
      "369          82    usa          chevrolet cavalier 2-door  \n",
      "370          82    usa         pontiac j2000 se hatchback  \n",
      "371          82    usa                     dodge aries se  \n",
      "372          82    usa                    pontiac phoenix  \n",
      "373          82    usa               ford fairmont futura  \n",
      "374          82    usa                     amc concord dl  \n",
      "378          82    usa             plymouth horizon miser  \n",
      "379          82    usa                     mercury lynx l  \n",
      "386          82    usa              buick century limited  \n",
      "387          82    usa  oldsmobile cutlass ciera (diesel)  \n",
      "388          82    usa         chrysler lebaron medallion  \n",
      "389          82    usa                     ford granada l  \n",
      "391          82    usa                  dodge charger 2.2  \n",
      "392          82    usa                   chevrolet camaro  \n",
      "393          82    usa                    ford mustang gl  \n",
      "395          82    usa                      dodge rampage  \n",
      "396          82    usa                        ford ranger  \n",
      "397          82    usa                         chevy s-10  \n",
      "\n",
      "[249 rows x 9 columns]\n"
     ]
    }
   ],
   "source": [
    "df1=df[df['origin'].str.contains(\"usa\")] #to extract data based on country origin=usa\n",
    "print(df1)"
   ]
  }
 ],
 "metadata": {
  "kernelspec": {
   "display_name": "Python 3",
   "language": "python",
   "name": "python3"
  },
  "language_info": {
   "codemirror_mode": {
    "name": "ipython",
    "version": 3
   },
   "file_extension": ".py",
   "mimetype": "text/x-python",
   "name": "python",
   "nbconvert_exporter": "python",
   "pygments_lexer": "ipython3",
   "version": "3.7.0"
  }
 },
 "nbformat": 4,
 "nbformat_minor": 2
}
