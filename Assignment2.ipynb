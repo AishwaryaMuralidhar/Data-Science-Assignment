{
 "cells": [
  {
   "cell_type": "markdown",
   "metadata": {},
   "source": [
    "Question 1: Even numbers"
   ]
  },
  {
   "cell_type": "code",
   "execution_count": 9,
   "metadata": {},
   "outputs": [
    {
     "name": "stdout",
     "output_type": "stream",
     "text": [
      "12\n",
      "36\n",
      "23\n",
      "67\n",
      "64\n",
      "98\n",
      "59\n",
      "48\n",
      "10\n",
      "49\n",
      "[12, 36, 64, 98, 48, 10]\n"
     ]
    }
   ],
   "source": [
    "list1=[]\n",
    "num=10\n",
    "for i in range(num):\n",
    "    data=int(input())\n",
    "    if data%2==0:\n",
    "        list1.append(data)\n",
    "print(list1)        \n",
    "        \n",
    "    "
   ]
  },
  {
   "cell_type": "markdown",
   "metadata": {},
   "source": [
    "Question 2:\n",
    "List Comprehention"
   ]
  },
  {
   "cell_type": "markdown",
   "metadata": {},
   "source": [
    "1)Example using append()"
   ]
  },
  {
   "cell_type": "code",
   "execution_count": 2,
   "metadata": {},
   "outputs": [
    {
     "name": "stdout",
     "output_type": "stream",
     "text": [
      "[6, 12, 18, 24, 30]\n"
     ]
    }
   ],
   "source": [
    "a=[2,4,6,8,10]\n",
    "b=[]\n",
    "for i in a:\n",
    "    b.append(i*3)\n",
    "print(b)    "
   ]
  },
  {
   "cell_type": "markdown",
   "metadata": {},
   "source": [
    "The same example can be re-written using list comprehention:"
   ]
  },
  {
   "cell_type": "code",
   "execution_count": 3,
   "metadata": {},
   "outputs": [
    {
     "name": "stdout",
     "output_type": "stream",
     "text": [
      "[6, 12, 18, 24, 30]\n"
     ]
    }
   ],
   "source": [
    "b=[i*3 for i in a] #list comprehention\n",
    "print(b)"
   ]
  },
  {
   "cell_type": "markdown",
   "metadata": {},
   "source": [
    "2)Example for a string"
   ]
  },
  {
   "cell_type": "code",
   "execution_count": 5,
   "metadata": {},
   "outputs": [
    {
     "name": "stdout",
     "output_type": "stream",
     "text": [
      "['u', 'p', 'g', 'r', 'a', 'd', 'e']\n"
     ]
    }
   ],
   "source": [
    "s=\"upgrade\"\n",
    "string_list=[letter for letter in s]\n",
    "print(string_list)"
   ]
  },
  {
   "cell_type": "markdown",
   "metadata": {},
   "source": [
    "3)Example for range"
   ]
  },
  {
   "cell_type": "code",
   "execution_count": 7,
   "metadata": {},
   "outputs": [
    {
     "name": "stdout",
     "output_type": "stream",
     "text": [
      "[1, 4, 9, 16]\n"
     ]
    }
   ],
   "source": [
    "l1=[]\n",
    "l2=[i**2 for i in range(1,5)]\n",
    "print(l2)"
   ]
  },
  {
   "cell_type": "markdown",
   "metadata": {},
   "source": [
    "Question 3: Dictionary"
   ]
  },
  {
   "cell_type": "code",
   "execution_count": 15,
   "metadata": {},
   "outputs": [
    {
     "name": "stdout",
     "output_type": "stream",
     "text": [
      "8\n",
      "{1: 1, 2: 4, 3: 9, 4: 16, 5: 25, 6: 36, 7: 49, 8: 64}\n"
     ]
    }
   ],
   "source": [
    "a={}\n",
    "num=int(input())\n",
    "for i in range(num):\n",
    "    d={i+1:(i+1)*(i+1)}\n",
    "    a.update(d)\n",
    "print(a)    "
   ]
  },
  {
   "cell_type": "markdown",
   "metadata": {},
   "source": [
    "Question 4: Distance"
   ]
  },
  {
   "cell_type": "code",
   "execution_count": 2,
   "metadata": {},
   "outputs": [
    {
     "name": "stdout",
     "output_type": "stream",
     "text": [
      "4\n",
      "UP5\n",
      "DOWN3\n",
      "LEFT3\n",
      "RIGHT2\n",
      "2\n"
     ]
    }
   ],
   "source": [
    "import math\n",
    "num=int(input())\n",
    "up=int(input(\"UP\"))\n",
    "down=int(input(\"DOWN\"))\n",
    "left=int(input(\"LEFT\"))\n",
    "right=int(input(\"RIGHT\"))\n",
    "side1=up-down\n",
    "side2=left-right\n",
    "distance=((side1*side1)+(side2*side2))\n",
    "dis=math.sqrt(distance)\n",
    "print(int(dis))"
   ]
  }
 ],
 "metadata": {
  "kernelspec": {
   "display_name": "Python 3",
   "language": "python",
   "name": "python3"
  },
  "language_info": {
   "codemirror_mode": {
    "name": "ipython",
    "version": 3
   },
   "file_extension": ".py",
   "mimetype": "text/x-python",
   "name": "python",
   "nbconvert_exporter": "python",
   "pygments_lexer": "ipython3",
   "version": "3.7.0"
  }
 },
 "nbformat": 4,
 "nbformat_minor": 2
}
