{
 "cells": [
  {
   "cell_type": "markdown",
   "metadata": {},
   "source": [
    "# Question 1"
   ]
  },
  {
   "cell_type": "code",
   "execution_count": 4,
   "metadata": {},
   "outputs": [
    {
     "name": "stdout",
     "output_type": "stream",
     "text": [
      "[ 2  5  8 11 14 17 20 23 26 29 32 35 38 41 44 47]\n"
     ]
    }
   ],
   "source": [
    "import numpy as np\n",
    "arr=np.arange(2,50,3)\n",
    "print(arr)"
   ]
  },
  {
   "cell_type": "markdown",
   "metadata": {},
   "source": [
    "# Question 2"
   ]
  },
  {
   "cell_type": "code",
   "execution_count": 3,
   "metadata": {},
   "outputs": [
    {
     "name": "stdout",
     "output_type": "stream",
     "text": [
      "45\n",
      "10\n",
      "35\n",
      "5\n",
      "20\n",
      "[45, 10, 35, 5, 20]\n",
      "60\n",
      "23\n",
      "90\n",
      "75\n",
      "55\n",
      "[60, 23, 90, 75, 55]\n",
      "[45 10 35  5 20]\n",
      "[60 23 90 75 55]\n",
      "[45 10 35  5 20 60 23 90 75 55]\n",
      "[ 5 10 20 23 35 45 55 60 75 90]\n"
     ]
    }
   ],
   "source": [
    "import numpy as np\n",
    "lst=[]\n",
    "lst1=[]\n",
    "num=5\n",
    "for i in range(0,num):\n",
    "    list1=int(input())\n",
    "    lst.append(list1)\n",
    "print(lst)\n",
    "for j in range(0,num):\n",
    "    list2=int(input())\n",
    "    lst1.append(list2)\n",
    "print(lst1)\n",
    "arr=np.array(lst)\n",
    "print(arr) #converting list to numpy array\n",
    "arr1=np.array(lst1)\n",
    "print(arr1)\n",
    "arr2=np.concatenate((arr,arr1)) #concatenating the numpy arrays\n",
    "print(arr2)\n",
    "print(np.sort(arr2)) #sorting the concatenated arrays"
   ]
  },
  {
   "cell_type": "markdown",
   "metadata": {},
   "source": [
    "# Question 3"
   ]
  },
  {
   "cell_type": "markdown",
   "metadata": {},
   "source": [
    "To find the dimensions of ndarray, ndim attribute is used. \n",
    "To find the size(number of elements) of NumPy array, shape attribute is used. \n",
    "To find the size(total number of elements) size attribute is used."
   ]
  },
  {
   "cell_type": "code",
   "execution_count": 7,
   "metadata": {},
   "outputs": [
    {
     "name": "stdout",
     "output_type": "stream",
     "text": [
      "[[ 0  1  2  3]\n",
      " [ 4  5  6  7]\n",
      " [ 8  9 10 11]]\n",
      "2\n",
      "(3, 4)\n",
      "12\n"
     ]
    }
   ],
   "source": [
    "import numpy as np\n",
    "a=np.arange(12).reshape((3,4))\n",
    "print(a)\n",
    "print(a.ndim)\n",
    "print(a.shape)\n",
    "print(a.size)"
   ]
  },
  {
   "cell_type": "markdown",
   "metadata": {},
   "source": [
    "# Question 4"
   ]
  },
  {
   "cell_type": "code",
   "execution_count": 26,
   "metadata": {},
   "outputs": [
    {
     "name": "stdout",
     "output_type": "stream",
     "text": [
      "[1 2 3 4 5 6 7 8]\n",
      "(8,)\n",
      "[[1 2 3 4 5 6 7 8]]\n",
      "(1, 8)\n",
      "[[1]\n",
      " [2]\n",
      " [3]\n",
      " [4]\n",
      " [5]\n",
      " [6]\n",
      " [7]\n",
      " [8]]\n",
      "(8, 1)\n",
      "[[1 2 3 4 5 6 7 8]]\n",
      "(1, 8)\n"
     ]
    }
   ],
   "source": [
    "import numpy as np\n",
    "a=np.arange(1,9)\n",
    "print(a)\n",
    "print(a.shape)\n",
    "b=a[np.newaxis,:] \n",
    "print(b)\n",
    "print(b.shape)\n",
    "b=a[:,np.newaxis] \n",
    "print(b)\n",
    "print(b.shape)\n",
    "a=np.arange(1,9)\n",
    "b=np.expand_dims(a,axis=0)\n",
    "print(b)\n",
    "print(b.shape)"
   ]
  },
  {
   "cell_type": "markdown",
   "metadata": {},
   "source": [
    "# Question 5"
   ]
  },
  {
   "cell_type": "markdown",
   "metadata": {},
   "source": [
    "vstack is used to combine 2 numpy arrays vertically. "
   ]
  },
  {
   "cell_type": "code",
   "execution_count": 28,
   "metadata": {},
   "outputs": [
    {
     "data": {
      "text/plain": [
       "array([[1, 2],\n",
       "       [3, 4],\n",
       "       [5, 6],\n",
       "       [7, 8]])"
      ]
     },
     "execution_count": 28,
     "metadata": {},
     "output_type": "execute_result"
    }
   ],
   "source": [
    "np_one=np.array([[1,2],[3,4]])\n",
    "np_two=np.array([[5,6],[7,8]])\n",
    "np.vstack((np_one,np_two))  "
   ]
  },
  {
   "cell_type": "markdown",
   "metadata": {},
   "source": [
    "hstack is used to combine 2 numpy arrays horizontally."
   ]
  },
  {
   "cell_type": "code",
   "execution_count": 29,
   "metadata": {},
   "outputs": [
    {
     "data": {
      "text/plain": [
       "array([[1, 2, 5, 6],\n",
       "       [3, 4, 7, 8]])"
      ]
     },
     "execution_count": 29,
     "metadata": {},
     "output_type": "execute_result"
    }
   ],
   "source": [
    "np_one=np.array([[1,2],[3,4]])\n",
    "np_two=np.array([[5,6],[7,8]])\n",
    "np.hstack((np_one,np_two))"
   ]
  },
  {
   "cell_type": "markdown",
   "metadata": {},
   "source": [
    "# Question 6"
   ]
  },
  {
   "cell_type": "markdown",
   "metadata": {},
   "source": [
    "We can get the count of unique values in a column using nunique()"
   ]
  },
  {
   "cell_type": "code",
   "execution_count": 12,
   "metadata": {},
   "outputs": [
    {
     "name": "stdout",
     "output_type": "stream",
     "text": [
      "   id group    team\n",
      "0   1   abc  team A\n",
      "1   2   pqr  team B\n",
      "2   3   xyz  team D\n",
      "3   1   abc  team A\n",
      "4   2   mno  team B\n",
      "\n",
      "Unique values in team are: 3\n"
     ]
    }
   ],
   "source": [
    "import pandas as pd\n",
    "data={\n",
    "    'id':[1,2,3,1,2],\n",
    "    'group':['abc','pqr','xyz','abc','mno'],\n",
    "    'team':['team A','team B','team D', 'team A','team B']\n",
    "}\n",
    "df=pd.DataFrame(data)\n",
    "print(df)\n",
    "unique_values=df['team'].nunique()\n",
    "print()\n",
    "print(\"Unique values in team are:\",unique_values)"
   ]
  },
  {
   "cell_type": "markdown",
   "metadata": {},
   "source": [
    "We can get the list of unique values in a column using unique()"
   ]
  },
  {
   "cell_type": "code",
   "execution_count": 6,
   "metadata": {},
   "outputs": [
    {
     "data": {
      "text/plain": [
       "array(['abc', 'pqr', 'xyz', 'mno'], dtype=object)"
      ]
     },
     "execution_count": 6,
     "metadata": {},
     "output_type": "execute_result"
    }
   ],
   "source": [
    "df['group'].unique()"
   ]
  }
 ],
 "metadata": {
  "kernelspec": {
   "display_name": "Python 3",
   "language": "python",
   "name": "python3"
  },
  "language_info": {
   "codemirror_mode": {
    "name": "ipython",
    "version": 3
   },
   "file_extension": ".py",
   "mimetype": "text/x-python",
   "name": "python",
   "nbconvert_exporter": "python",
   "pygments_lexer": "ipython3",
   "version": "3.7.0"
  }
 },
 "nbformat": 4,
 "nbformat_minor": 2
}
